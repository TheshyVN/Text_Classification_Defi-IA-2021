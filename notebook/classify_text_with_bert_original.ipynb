{
 "cells": [
  {
   "cell_type": "markdown",
   "metadata": {
    "id": "b-ssK1yaUQca"
   },
   "source": [
    "Team name: France_INSA_Tythons\n",
    "\n",
    "Members:\n",
    "\n",
    "- HAMIDALLAH Adam\n",
    "- PHAN Dinh Triem\n",
    "- LE Viet Minh Thong\n",
    "- HUYNH Ngo Nghi Truyen\n",
    "- NGUYEN Ngoc Bao"
   ]
  },
  {
   "cell_type": "markdown",
   "metadata": {
    "id": "IZ6SNYq_tVVC"
   },
   "source": [
    "# Classify text with BERT\n",
    "\n",
    "This contains complete code to fine-tune BERT to perform a classification of jobs based on their description.\n",
    "\n",
    "In this notebook, we will:\n",
    "\n",
    "- Load the dataset\n",
    "- Load a BERT model from TensorFlow Hub\n",
    "- Build our own model by combining BERT with a classifier\n",
    "- Train our own model, fine-tuning BERT as part of that\n",
    "- Save our model and use it to classify sentences"
   ]
  },
  {
   "cell_type": "markdown",
   "metadata": {
    "id": "2PHBpLPuQdmK"
   },
   "source": [
    "## About BERT\n",
    "\n",
    "[BERT](https://arxiv.org/abs/1810.04805) and other Transformer encoder architectures have been wildly successful on a variety of tasks in NLP (natural language processing). They compute vector-space representations of natural language that are suitable for use in deep learning models. The BERT family of models uses the Transformer encoder architecture to process each token of input text in the full context of all tokens before and after, hence the name: Bidirectional Encoder Representations from Transformers. \n",
    "\n",
    "BERT models are usually pre-trained on a large corpus of text, then fine-tuned for specific tasks.\n"
   ]
  },
  {
   "cell_type": "markdown",
   "metadata": {
    "id": "SCjmX4zTCkRK"
   },
   "source": [
    "## Setup\n",
    "\n",
    "\n"
   ]
  },
  {
   "cell_type": "code",
   "execution_count": 18,
   "metadata": {
    "colab": {
     "base_uri": "https://localhost:8080/"
    },
    "executionInfo": {
     "elapsed": 5610,
     "status": "ok",
     "timestamp": 1610371789932,
     "user": {
      "displayName": "Nguyen Bao",
      "photoUrl": "https://lh3.googleusercontent.com/a-/AOh14Gjw7M03YsQjaWXfKVf3GckShdGXMown08YblXnIzQ=s64",
      "userId": "00428871316513598663"
     },
     "user_tz": -60
    },
    "id": "q-YbjCkzw0yU",
    "outputId": "91357bfd-6e27-4834-8545-794d6ea8a2ee"
   },
   "outputs": [],
   "source": [
    "# A dependency of the preprocessing for BERT inputs\n",
    "!pip install -q tensorflow-text"
   ]
  },
  {
   "cell_type": "markdown",
   "metadata": {
    "id": "5w_XlxN1IsRJ"
   },
   "source": [
    "You will use the AdamW optimizer from [tensorflow/models](https://github.com/tensorflow/models)."
   ]
  },
  {
   "cell_type": "code",
   "execution_count": 19,
   "metadata": {
    "colab": {
     "base_uri": "https://localhost:8080/"
    },
    "executionInfo": {
     "elapsed": 19854,
     "status": "ok",
     "timestamp": 1610371804183,
     "user": {
      "displayName": "Nguyen Bao",
      "photoUrl": "https://lh3.googleusercontent.com/a-/AOh14Gjw7M03YsQjaWXfKVf3GckShdGXMown08YblXnIzQ=s64",
      "userId": "00428871316513598663"
     },
     "user_tz": -60
    },
    "id": "b-P1ZOA0FkVJ",
    "outputId": "72725551-c6f7-4ad7-8417-d3f1aa8b6ad1"
   },
   "outputs": [],
   "source": [
    "!pip install -q tf-models-official"
   ]
  },
  {
   "cell_type": "code",
   "execution_count": null,
   "metadata": {},
   "outputs": [],
   "source": [
    "import os\n",
    "import shutil\n",
    "import numpy as np\n",
    "import tensorflow as tf\n",
    "import tensorflow_hub as hub\n",
    "import tensorflow_text as text\n",
    "from official.nlp import optimization  # to create AdamW optmizer\n",
    "tf.get_logger().setLevel('ERROR')"
   ]
  },
  {
   "cell_type": "markdown",
   "metadata": {
    "id": "q6MugfEgDRpY"
   },
   "source": [
    "## Job classification"
   ]
  },
  {
   "cell_type": "markdown",
   "metadata": {
    "id": "Vnvd4mrtPHHV"
   },
   "source": [
    "### Dataset\n",
    "\n",
    "Dataset is already obtained from kaggle and placed in the directory of the notebook.\n",
    "\n"
   ]
  },
  {
   "cell_type": "code",
   "execution_count": 5,
   "metadata": {
    "executionInfo": {
     "elapsed": 22097,
     "status": "ok",
     "timestamp": 1610371806438,
     "user": {
      "displayName": "Nguyen Bao",
      "photoUrl": "https://lh3.googleusercontent.com/a-/AOh14Gjw7M03YsQjaWXfKVf3GckShdGXMown08YblXnIzQ=s64",
      "userId": "00428871316513598663"
     },
     "user_tz": -60
    },
    "id": "WwbI_sWDyQv_"
   },
   "outputs": [],
   "source": [
    "from sklearn.metrics import f1_score\n",
    "from sklearn.model_selection import train_test_split\n",
    "\n",
    "import pandas as pd\n",
    "import pickle\n",
   ]
  },
  {
   "cell_type": "code",
   "execution_count": 6,
   "metadata": {
    "colab": {
     "base_uri": "https://localhost:8080/"
    },
    "executionInfo": {
     "elapsed": 50219,
     "status": "ok",
     "timestamp": 1610371834564,
     "user": {
      "displayName": "Nguyen Bao",
      "photoUrl": "https://lh3.googleusercontent.com/a-/AOh14Gjw7M03YsQjaWXfKVf3GckShdGXMown08YblXnIzQ=s64",
      "userId": "00428871316513598663"
     },
     "user_tz": -60
    },
    "id": "I6bYmZ_6M_Lu",
    "outputId": "0f74d3d5-1f56-4e06-bcde-e09134d04b0b"
   },
   "outputs": [
    {
     "name": "stdout",
     "output_type": "stream",
     "text": [
      "Mounted at /content/drive\n"
     ]
    }
   ],
   "source": [
    "from google.colab import drive\n",
    "drive.mount('/content/drive')"
   ]
  },
  {
   "cell_type": "code",
   "execution_count": 54,
   "metadata": {
    "executionInfo": {
     "elapsed": 1976,
     "status": "ok",
     "timestamp": 1610399853842,
     "user": {
      "displayName": "Nguyen Bao",
      "photoUrl": "https://lh3.googleusercontent.com/a-/AOh14Gjw7M03YsQjaWXfKVf3GckShdGXMown08YblXnIzQ=s64",
      "userId": "00428871316513598663"
     },
     "user_tz": -60
    },
    "id": "y4S4rnuXyb1i"
   },
   "outputs": [],
   "source": [
    "PATH = \"/content/drive/MyDrive/Hoc/DefiIA/Codes/Bao/\"\n",
    "train_label = pd.read_csv(PATH+\"train_label.csv\")\n",
    "train_df2 = pd.read_json(PATH+\"train.json\")\n",
    "test_df2 = pd.read_json(PATH+\"test.json\")\n",
    "train_df2['Category'] = train_label['Category'].values"
   ]
  },
  {
   "cell_type": "code",
   "execution_count": 12,
   "metadata": {
    "executionInfo": {
     "elapsed": 57355,
     "status": "ok",
     "timestamp": 1610371841742,
     "user": {
      "displayName": "Nguyen Bao",
      "photoUrl": "https://lh3.googleusercontent.com/a-/AOh14Gjw7M03YsQjaWXfKVf3GckShdGXMown08YblXnIzQ=s64",
      "userId": "00428871316513598663"
     },
     "user_tz": -60
    },
    "id": "OgGwVo6R07Cr"
   },
   "outputs": [],
   "source": [
    "X_train, X_val = train_test_split(train_df2, test_size=0.2, stratify=train_df2['Category'], random_state=42)"
   ]
  },
  {
   "cell_type": "code",
   "execution_count": 13,
   "metadata": {
    "executionInfo": {
     "elapsed": 62775,
     "status": "ok",
     "timestamp": 1610371847165,
     "user": {
      "displayName": "Nguyen Bao",
      "photoUrl": "https://lh3.googleusercontent.com/a-/AOh14Gjw7M03YsQjaWXfKVf3GckShdGXMown08YblXnIzQ=s64",
      "userId": "00428871316513598663"
     },
     "user_tz": -60
    },
    "id": "xeHKX6LR9Psc"
   },
   "outputs": [],
   "source": [
    "X_train2=tf.convert_to_tensor(X_train['description'])\n",
    "y_train2=tf.convert_to_tensor(X_train['Category'])\n",
    "\n",
    "X_val2=tf.convert_to_tensor(X_val['description'])\n",
    "y_val2=tf.convert_to_tensor(X_val['Category'])"
   ]
  },
  {
   "cell_type": "markdown",
   "metadata": {
    "id": "dX8FtlpGJRE6"
   },
   "source": [
    "## Loading models from TensorFlow Hub\n",
    "\n",
    "Here you can choose which BERT model you will load from TensorFlow Hub and fine-tune. There are multiple BERT models available.\n",
    "\n",
    "  - [BERT-Base](https://tfhub.dev/tensorflow/bert_en_uncased_L-12_H-768_A-12/3), [Uncased](https://tfhub.dev/tensorflow/bert_en_uncased_L-12_H-768_A-12/3) and [seven more models](https://tfhub.dev/google/collections/bert/1) with trained weights released by the original BERT authors.\n",
    "  - [Small BERTs](https://tfhub.dev/google/collections/bert/1) have the same general architecture but fewer and/or smaller Transformer blocks, which lets you explore tradeoffs between speed, size and quality.\n",
    "  - [ALBERT](https://tfhub.dev/google/collections/albert/1): four different sizes of \"A Lite BERT\" that reduces model size (but not computation time) by sharing parameters between layers.\n",
    "  - [BERT Experts](https://tfhub.dev/google/collections/experts/bert/1): eight models that all have the BERT-base architecture but offer a choice between different pre-training domains, to align more closely with the target task.\n",
    "  - [Electra](https://tfhub.dev/google/collections/electra/1) has the same architecture as BERT (in three different sizes), but gets pre-trained as a discriminator in a set-up that resembles a Generative Adversarial Network (GAN).\n",
    "  - BERT with Talking-Heads Attention and Gated GELU [[base](https://tfhub.dev/tensorflow/talkheads_ggelu_bert_en_base/1), [large](https://tfhub.dev/tensorflow/talkheads_ggelu_bert_en_large/1)] has two improvements to the core of the Transformer architecture.\n",
    "\n",
    "The model documentation on TensorFlow Hub has more details and references to the\n",
    "research literature. Follow the links above, or click on the [`tfhub.dev`](http://tfhub.dev) URL\n",
    "printed after the next cell execution.\n",
    "\n",
    "The suggestion is to start with a Small BERT (with fewer parameters) since they are faster to fine-tune. If you like a small model but with higher accuracy, ALBERT might be your next option. If you want even better accuracy, choose\n",
    "one of the classic BERT sizes or their recent refinements like Electra, Talking Heads, or a BERT Expert.\n",
    "\n",
    "Aside from the models available below, there are [multiple versions](https://tfhub.dev/google/collections/transformer_encoders_text/1) of the models that are larger and can yeld even better accuracy but they are too big to be fine-tuned on a single GPU. You will be able to do that on the [Solve GLUE tasks using BERT on a TPU colab](https://www.tensorflow.org/tutorials/text/solve_glue_tasks_using_bert_on_tpu).\n",
    "\n",
    "You'll see in the code below that switching the tfhub.dev URL is enough to try any of these models, because all the differences between them are encapsulated in the SavedModels from TF Hub."
   ]
  },
  {
   "cell_type": "code",
   "execution_count": 14,
   "metadata": {
    "colab": {
     "base_uri": "https://localhost:8080/"
    },
    "executionInfo": {
     "elapsed": 63181,
     "status": "ok",
     "timestamp": 1610371847576,
     "user": {
      "displayName": "Nguyen Bao",
      "photoUrl": "https://lh3.googleusercontent.com/a-/AOh14Gjw7M03YsQjaWXfKVf3GckShdGXMown08YblXnIzQ=s64",
      "userId": "00428871316513598663"
     },
     "user_tz": -60
    },
    "id": "y8_ctG55-uTX",
    "outputId": "b04b9be3-02e6-4990-fb11-a37813355a6e"
   },
   "outputs": [
    {
     "name": "stdout",
     "output_type": "stream",
     "text": [
      "BERT model selected           : https://tfhub.dev/tensorflow/bert_en_cased_L-12_H-768_A-12/3\n",
      "Preprocess model auto-selected: https://tfhub.dev/tensorflow/bert_en_cased_preprocess/2\n"
     ]
    }
   ],
   "source": [
    "#@title Choose a BERT model to fine-tune\n",
    "\n",
    "bert_model_name = 'bert_en_cased_L-12_H-768_A-12'  #@param [\"bert_en_uncased_L-12_H-768_A-12\", \"bert_en_cased_L-12_H-768_A-12\", \"bert_multi_cased_L-12_H-768_A-12\", \"small_bert/bert_en_uncased_L-2_H-128_A-2\", \"small_bert/bert_en_uncased_L-2_H-256_A-4\", \"small_bert/bert_en_uncased_L-2_H-512_A-8\", \"small_bert/bert_en_uncased_L-2_H-768_A-12\", \"small_bert/bert_en_uncased_L-4_H-128_A-2\", \"small_bert/bert_en_uncased_L-4_H-256_A-4\", \"small_bert/bert_en_uncased_L-4_H-512_A-8\", \"small_bert/bert_en_uncased_L-4_H-768_A-12\", \"small_bert/bert_en_uncased_L-6_H-128_A-2\", \"small_bert/bert_en_uncased_L-6_H-256_A-4\", \"small_bert/bert_en_uncased_L-6_H-512_A-8\", \"small_bert/bert_en_uncased_L-6_H-768_A-12\", \"small_bert/bert_en_uncased_L-8_H-128_A-2\", \"small_bert/bert_en_uncased_L-8_H-256_A-4\", \"small_bert/bert_en_uncased_L-8_H-512_A-8\", \"small_bert/bert_en_uncased_L-8_H-768_A-12\", \"small_bert/bert_en_uncased_L-10_H-128_A-2\", \"small_bert/bert_en_uncased_L-10_H-256_A-4\", \"small_bert/bert_en_uncased_L-10_H-512_A-8\", \"small_bert/bert_en_uncased_L-10_H-768_A-12\", \"small_bert/bert_en_uncased_L-12_H-128_A-2\", \"small_bert/bert_en_uncased_L-12_H-256_A-4\", \"small_bert/bert_en_uncased_L-12_H-512_A-8\", \"small_bert/bert_en_uncased_L-12_H-768_A-12\", \"albert_en_base\", \"electra_small\", \"electra_base\", \"experts_pubmed\", \"experts_wiki_books\", \"talking-heads_base\"]\n",
    "\n",
    "map_name_to_handle = {\n",
    "    'bert_en_uncased_L-12_H-768_A-12':\n",
    "        'https://tfhub.dev/tensorflow/bert_en_uncased_L-12_H-768_A-12/3',\n",
    "    'bert_en_cased_L-12_H-768_A-12':\n",
    "        'https://tfhub.dev/tensorflow/bert_en_cased_L-12_H-768_A-12/3',\n",
    "    'bert_multi_cased_L-12_H-768_A-12':\n",
    "        'https://tfhub.dev/tensorflow/bert_multi_cased_L-12_H-768_A-12/3',\n",
    "    'small_bert/bert_en_uncased_L-2_H-128_A-2':\n",
    "        'https://tfhub.dev/tensorflow/small_bert/bert_en_uncased_L-2_H-128_A-2/1',\n",
    "    'small_bert/bert_en_uncased_L-2_H-256_A-4':\n",
    "        'https://tfhub.dev/tensorflow/small_bert/bert_en_uncased_L-2_H-256_A-4/1',\n",
    "    'small_bert/bert_en_uncased_L-2_H-512_A-8':\n",
    "        'https://tfhub.dev/tensorflow/small_bert/bert_en_uncased_L-2_H-512_A-8/1',\n",
    "    'small_bert/bert_en_uncased_L-2_H-768_A-12':\n",
    "        'https://tfhub.dev/tensorflow/small_bert/bert_en_uncased_L-2_H-768_A-12/1',\n",
    "    'small_bert/bert_en_uncased_L-4_H-128_A-2':\n",
    "        'https://tfhub.dev/tensorflow/small_bert/bert_en_uncased_L-4_H-128_A-2/1',\n",
    "    'small_bert/bert_en_uncased_L-4_H-256_A-4':\n",
    "        'https://tfhub.dev/tensorflow/small_bert/bert_en_uncased_L-4_H-256_A-4/1',\n",
    "    'small_bert/bert_en_uncased_L-4_H-512_A-8':\n",
    "        'https://tfhub.dev/tensorflow/small_bert/bert_en_uncased_L-4_H-512_A-8/1',\n",
    "    'small_bert/bert_en_uncased_L-4_H-768_A-12':\n",
    "        'https://tfhub.dev/tensorflow/small_bert/bert_en_uncased_L-4_H-768_A-12/1',\n",
    "    'small_bert/bert_en_uncased_L-6_H-128_A-2':\n",
    "        'https://tfhub.dev/tensorflow/small_bert/bert_en_uncased_L-6_H-128_A-2/1',\n",
    "    'small_bert/bert_en_uncased_L-6_H-256_A-4':\n",
    "        'https://tfhub.dev/tensorflow/small_bert/bert_en_uncased_L-6_H-256_A-4/1',\n",
    "    'small_bert/bert_en_uncased_L-6_H-512_A-8':\n",
    "        'https://tfhub.dev/tensorflow/small_bert/bert_en_uncased_L-6_H-512_A-8/1',\n",
    "    'small_bert/bert_en_uncased_L-6_H-768_A-12':\n",
    "        'https://tfhub.dev/tensorflow/small_bert/bert_en_uncased_L-6_H-768_A-12/1',\n",
    "    'small_bert/bert_en_uncased_L-8_H-128_A-2':\n",
    "        'https://tfhub.dev/tensorflow/small_bert/bert_en_uncased_L-8_H-128_A-2/1',\n",
    "    'small_bert/bert_en_uncased_L-8_H-256_A-4':\n",
    "        'https://tfhub.dev/tensorflow/small_bert/bert_en_uncased_L-8_H-256_A-4/1',\n",
    "    'small_bert/bert_en_uncased_L-8_H-512_A-8':\n",
    "        'https://tfhub.dev/tensorflow/small_bert/bert_en_uncased_L-8_H-512_A-8/1',\n",
    "    'small_bert/bert_en_uncased_L-8_H-768_A-12':\n",
    "        'https://tfhub.dev/tensorflow/small_bert/bert_en_uncased_L-8_H-768_A-12/1',\n",
    "    'small_bert/bert_en_uncased_L-10_H-128_A-2':\n",
    "        'https://tfhub.dev/tensorflow/small_bert/bert_en_uncased_L-10_H-128_A-2/1',\n",
    "    'small_bert/bert_en_uncased_L-10_H-256_A-4':\n",
    "        'https://tfhub.dev/tensorflow/small_bert/bert_en_uncased_L-10_H-256_A-4/1',\n",
    "    'small_bert/bert_en_uncased_L-10_H-512_A-8':\n",
    "        'https://tfhub.dev/tensorflow/small_bert/bert_en_uncased_L-10_H-512_A-8/1',\n",
    "    'small_bert/bert_en_uncased_L-10_H-768_A-12':\n",
    "        'https://tfhub.dev/tensorflow/small_bert/bert_en_uncased_L-10_H-768_A-12/1',\n",
    "    'small_bert/bert_en_uncased_L-12_H-128_A-2':\n",
    "        'https://tfhub.dev/tensorflow/small_bert/bert_en_uncased_L-12_H-128_A-2/1',\n",
    "    'small_bert/bert_en_uncased_L-12_H-256_A-4':\n",
    "        'https://tfhub.dev/tensorflow/small_bert/bert_en_uncased_L-12_H-256_A-4/1',\n",
    "    'small_bert/bert_en_uncased_L-12_H-512_A-8':\n",
    "        'https://tfhub.dev/tensorflow/small_bert/bert_en_uncased_L-12_H-512_A-8/1',\n",
    "    'small_bert/bert_en_uncased_L-12_H-768_A-12':\n",
    "        'https://tfhub.dev/tensorflow/small_bert/bert_en_uncased_L-12_H-768_A-12/1',\n",
    "    'albert_en_base':\n",
    "        'https://tfhub.dev/tensorflow/albert_en_base/2',\n",
    "    'electra_small':\n",
    "        'https://tfhub.dev/google/electra_small/2',\n",
    "    'electra_base':\n",
    "        'https://tfhub.dev/google/electra_base/2',\n",
    "    'experts_pubmed':\n",
    "        'https://tfhub.dev/google/experts/bert/pubmed/2',\n",
    "    'experts_wiki_books':\n",
    "        'https://tfhub.dev/google/experts/bert/wiki_books/2',\n",
    "    'talking-heads_base':\n",
    "        'https://tfhub.dev/tensorflow/talkheads_ggelu_bert_en_base/1',\n",
    "}\n",
    "\n",
    "map_model_to_preprocess = {\n",
    "    'bert_en_uncased_L-12_H-768_A-12':\n",
    "        'https://tfhub.dev/tensorflow/bert_en_uncased_preprocess/2',\n",
    "    'bert_en_cased_L-12_H-768_A-12':\n",
    "        'https://tfhub.dev/tensorflow/bert_en_cased_preprocess/2',\n",
    "    'small_bert/bert_en_uncased_L-2_H-128_A-2':\n",
    "        'https://tfhub.dev/tensorflow/bert_en_uncased_preprocess/2',\n",
    "    'small_bert/bert_en_uncased_L-2_H-256_A-4':\n",
    "        'https://tfhub.dev/tensorflow/bert_en_uncased_preprocess/2',\n",
    "    'small_bert/bert_en_uncased_L-2_H-512_A-8':\n",
    "        'https://tfhub.dev/tensorflow/bert_en_uncased_preprocess/2',\n",
    "    'small_bert/bert_en_uncased_L-2_H-768_A-12':\n",
    "        'https://tfhub.dev/tensorflow/bert_en_uncased_preprocess/2',\n",
    "    'small_bert/bert_en_uncased_L-4_H-128_A-2':\n",
    "        'https://tfhub.dev/tensorflow/bert_en_uncased_preprocess/2',\n",
    "    'small_bert/bert_en_uncased_L-4_H-256_A-4':\n",
    "        'https://tfhub.dev/tensorflow/bert_en_uncased_preprocess/2',\n",
    "    'small_bert/bert_en_uncased_L-4_H-512_A-8':\n",
    "        'https://tfhub.dev/tensorflow/bert_en_uncased_preprocess/2',\n",
    "    'small_bert/bert_en_uncased_L-4_H-768_A-12':\n",
    "        'https://tfhub.dev/tensorflow/bert_en_uncased_preprocess/2',\n",
    "    'small_bert/bert_en_uncased_L-6_H-128_A-2':\n",
    "        'https://tfhub.dev/tensorflow/bert_en_uncased_preprocess/2',\n",
    "    'small_bert/bert_en_uncased_L-6_H-256_A-4':\n",
    "        'https://tfhub.dev/tensorflow/bert_en_uncased_preprocess/2',\n",
    "    'small_bert/bert_en_uncased_L-6_H-512_A-8':\n",
    "        'https://tfhub.dev/tensorflow/bert_en_uncased_preprocess/2',\n",
    "    'small_bert/bert_en_uncased_L-6_H-768_A-12':\n",
    "        'https://tfhub.dev/tensorflow/bert_en_uncased_preprocess/2',\n",
    "    'small_bert/bert_en_uncased_L-8_H-128_A-2':\n",
    "        'https://tfhub.dev/tensorflow/bert_en_uncased_preprocess/2',\n",
    "    'small_bert/bert_en_uncased_L-8_H-256_A-4':\n",
    "        'https://tfhub.dev/tensorflow/bert_en_uncased_preprocess/2',\n",
    "    'small_bert/bert_en_uncased_L-8_H-512_A-8':\n",
    "        'https://tfhub.dev/tensorflow/bert_en_uncased_preprocess/2',\n",
    "    'small_bert/bert_en_uncased_L-8_H-768_A-12':\n",
    "        'https://tfhub.dev/tensorflow/bert_en_uncased_preprocess/2',\n",
    "    'small_bert/bert_en_uncased_L-10_H-128_A-2':\n",
    "        'https://tfhub.dev/tensorflow/bert_en_uncased_preprocess/2',\n",
    "    'small_bert/bert_en_uncased_L-10_H-256_A-4':\n",
    "        'https://tfhub.dev/tensorflow/bert_en_uncased_preprocess/2',\n",
    "    'small_bert/bert_en_uncased_L-10_H-512_A-8':\n",
    "        'https://tfhub.dev/tensorflow/bert_en_uncased_preprocess/2',\n",
    "    'small_bert/bert_en_uncased_L-10_H-768_A-12':\n",
    "        'https://tfhub.dev/tensorflow/bert_en_uncased_preprocess/2',\n",
    "    'small_bert/bert_en_uncased_L-12_H-128_A-2':\n",
    "        'https://tfhub.dev/tensorflow/bert_en_uncased_preprocess/2',\n",
    "    'small_bert/bert_en_uncased_L-12_H-256_A-4':\n",
    "        'https://tfhub.dev/tensorflow/bert_en_uncased_preprocess/2',\n",
    "    'small_bert/bert_en_uncased_L-12_H-512_A-8':\n",
    "        'https://tfhub.dev/tensorflow/bert_en_uncased_preprocess/2',\n",
    "    'small_bert/bert_en_uncased_L-12_H-768_A-12':\n",
    "        'https://tfhub.dev/tensorflow/bert_en_uncased_preprocess/2',\n",
    "    'bert_multi_cased_L-12_H-768_A-12':\n",
    "        'https://tfhub.dev/tensorflow/bert_multi_cased_preprocess/2',\n",
    "    'albert_en_base':\n",
    "        'https://tfhub.dev/tensorflow/albert_en_preprocess/2',\n",
    "    'electra_small':\n",
    "        'https://tfhub.dev/tensorflow/bert_en_uncased_preprocess/2',\n",
    "    'electra_base':\n",
    "        'https://tfhub.dev/tensorflow/bert_en_uncased_preprocess/2',\n",
    "    'experts_pubmed':\n",
    "        'https://tfhub.dev/tensorflow/bert_en_uncased_preprocess/2',\n",
    "    'experts_wiki_books':\n",
    "        'https://tfhub.dev/tensorflow/bert_en_uncased_preprocess/2',\n",
    "    'talking-heads_base':\n",
    "        'https://tfhub.dev/tensorflow/bert_en_uncased_preprocess/2',\n",
    "}\n",
    "\n",
    "tfhub_handle_encoder = map_name_to_handle[bert_model_name]\n",
    "tfhub_handle_preprocess = map_model_to_preprocess[bert_model_name]\n",
    "\n",
    "print(f'BERT model selected           : {tfhub_handle_encoder}')\n",
    "print(f'Preprocess model auto-selected: {tfhub_handle_preprocess}')"
   ]
  },
  {
   "cell_type": "markdown",
   "metadata": {
    "id": "7WrcxxTRDdHi"
   },
   "source": [
    "## The preprocessing model\n",
    "\n",
    "Text inputs need to be transformed to numeric token ids and arranged in several Tensors before being input to BERT. TensorFlow Hub provides a matching preprocessing model for each of the BERT models discussed above, which implements this transformation using TF ops from the TF.text library. It is not necessary to run pure Python code outside your TensorFlow model to preprocess text.\n",
    "\n",
    "The preprocessing model must be the one referenced by the documentation of the BERT model, which you can read at the URL printed above. For BERT models from the drop-down above, the preprocessing model is selected automatically.\n",
    "\n",
    "Note: You will load the preprocessing model into a [hub.KerasLayer](https://www.tensorflow.org/hub/api_docs/python/hub/KerasLayer) to compose your fine-tuned model. This is the preferred API to load a TF2-style SavedModel from TF Hub into a Keras model."
   ]
  },
  {
   "cell_type": "code",
   "execution_count": 15,
   "metadata": {
    "executionInfo": {
     "elapsed": 67114,
     "status": "ok",
     "timestamp": 1610371851514,
     "user": {
      "displayName": "Nguyen Bao",
      "photoUrl": "https://lh3.googleusercontent.com/a-/AOh14Gjw7M03YsQjaWXfKVf3GckShdGXMown08YblXnIzQ=s64",
      "userId": "00428871316513598663"
     },
     "user_tz": -60
    },
    "id": "0SQi-jWd_jzq"
   },
   "outputs": [],
   "source": [
    "bert_preprocess_model = hub.KerasLayer(tfhub_handle_preprocess)"
   ]
  },
  {
   "cell_type": "markdown",
   "metadata": {
    "id": "x4naBiEE_cZX"
   },
   "source": [
    "Let's try the preprocessing model on some text and see the output:"
   ]
  },
  {
   "cell_type": "markdown",
   "metadata": {
    "id": "EqL7ihkN_862"
   },
   "source": [
    "As you can see, now you have the 3 outputs from the preprocessing that a BERT model would use (`input_words_id`, `input_mask` and `input_type_ids`).\n",
    "\n",
    "Some other important points:\n",
    "- The input is truncated to 128 tokens. The number of tokens can be customized and you can see more details on the [Solve GLUE tasks using BERT on a TPU colab](https://www.tensorflow.org/tutorials/text/solve_glue_tasks_using_bert_on_tpu).\n",
    "- The `input_type_ids` only have one value (0) because this is a single sentence input. For a multiple sentence input, it would have one number for each input.\n",
    "\n",
    "Since this text preprocessor is a TensorFlow model, It can be included in your model directly."
   ]
  },
  {
   "cell_type": "markdown",
   "metadata": {
    "id": "DKnLPSEmtp9i"
   },
   "source": [
    "## Using the BERT model\n",
    "\n",
    "Before putting BERT into your own model, let's take a look at its outputs. Load it from TF Hub and see the returned values."
   ]
  },
  {
   "cell_type": "code",
   "execution_count": 16,
   "metadata": {
    "executionInfo": {
     "elapsed": 153217,
     "status": "ok",
     "timestamp": 1610371937621,
     "user": {
      "displayName": "Nguyen Bao",
      "photoUrl": "https://lh3.googleusercontent.com/a-/AOh14Gjw7M03YsQjaWXfKVf3GckShdGXMown08YblXnIzQ=s64",
      "userId": "00428871316513598663"
     },
     "user_tz": -60
    },
    "id": "tXxYpK8ixL34"
   },
   "outputs": [],
   "source": [
    "bert_model = hub.KerasLayer(tfhub_handle_encoder)"
   ]
  },
  {
   "cell_type": "markdown",
   "metadata": {
    "id": "sm61jDrezAll"
   },
   "source": [
    "The BERT models return a map with 3 important keys: `pooled_output`, `sequence_output`, `encoder_outputs`:\n",
    "\n",
    "- `pooled_output` to represent each input sequence as a whole. The shape is `[batch_size, H]`.\n",
    "- `sequence_output` represents each input token in the context. The shape is `[batch_size, seq_length, H]`.\n",
    "- `encoder_outputs` are the intermediate activations of the `L` Transformer blocks. `outputs[\"encoder_outputs\"][i]` is a Tensor of shape `[batch_size, seq_length, 1024]` with the outputs of the i-th Transformer block, for `0 <= i < L`. The last value of the list is equal to `sequence_output`.\n",
    "\n",
    "For the fine-tuning we are going to use the `pooled_output` array."
   ]
  },
  {
   "cell_type": "markdown",
   "metadata": {
    "id": "pDNKfAXbDnJH"
   },
   "source": [
    "## Define model\n",
    "\n",
    "Create a very simple fine-tuned model, with the preprocessing model, the selected BERT model, one Dense and a Dropout layer."
   ]
  },
  {
   "cell_type": "code",
   "execution_count": 17,
   "metadata": {
    "executionInfo": {
     "elapsed": 153225,
     "status": "ok",
     "timestamp": 1610371937633,
     "user": {
      "displayName": "Nguyen Bao",
      "photoUrl": "https://lh3.googleusercontent.com/a-/AOh14Gjw7M03YsQjaWXfKVf3GckShdGXMown08YblXnIzQ=s64",
      "userId": "00428871316513598663"
     },
     "user_tz": -60
    },
    "id": "aksj743St9ga"
   },
   "outputs": [],
   "source": [
    "def build_classifier_model():\n",
    "  text_input = tf.keras.layers.Input(shape=(), dtype=tf.string, name='text')\n",
    "  preprocessing_layer = hub.KerasLayer(tfhub_handle_preprocess, name='preprocessing')\n",
    "  encoder_inputs = preprocessing_layer(text_input)\n",
    "  encoder = hub.KerasLayer(tfhub_handle_encoder, trainable=True, name='BERT_encoder')\n",
    "  outputs = encoder(encoder_inputs)\n",
    "  net = outputs['pooled_output']\n",
    "  net = tf.keras.layers.Dropout(0.1)(net)\n",
    "  net= tf.keras.layers.Dense(64, activation='relu')(net)\n",
    "  net = tf.keras.layers.Dropout(0.1)(net)\n",
    "  net= tf.keras.layers.Dense(32, activation='relu')(net)\n",
    "\n",
    "  net = tf.keras.layers.Dense(28, activation='softmax', name='classifier')(net)\n",
    "  return tf.keras.Model(text_input, net)"
   ]
  },
  {
   "cell_type": "markdown",
   "metadata": {
    "id": "Zs4yhFraBuGQ"
   },
   "source": [
    "Let's check that the model runs with the output of the preprocessing model."
   ]
  },
  {
   "cell_type": "code",
   "execution_count": 18,
   "metadata": {
    "executionInfo": {
     "elapsed": 236645,
     "status": "ok",
     "timestamp": 1610372021057,
     "user": {
      "displayName": "Nguyen Bao",
      "photoUrl": "https://lh3.googleusercontent.com/a-/AOh14Gjw7M03YsQjaWXfKVf3GckShdGXMown08YblXnIzQ=s64",
      "userId": "00428871316513598663"
     },
     "user_tz": -60
    },
    "id": "mGMF8AZcB2Zy"
   },
   "outputs": [],
   "source": [
    "classifier_model = build_classifier_model()"
   ]
  },
  {
   "cell_type": "markdown",
   "metadata": {
    "id": "ZTUzNV2JE2G3"
   },
   "source": [
    "The output is meaningless, of course, because the model has not been trained yet.\n",
    "\n",
    "Let's take a look at the model's structure."
   ]
  },
  {
   "cell_type": "code",
   "execution_count": 19,
   "metadata": {
    "colab": {
     "base_uri": "https://localhost:8080/",
     "height": 758
    },
    "executionInfo": {
     "elapsed": 237146,
     "status": "ok",
     "timestamp": 1610372021565,
     "user": {
      "displayName": "Nguyen Bao",
      "photoUrl": "https://lh3.googleusercontent.com/a-/AOh14Gjw7M03YsQjaWXfKVf3GckShdGXMown08YblXnIzQ=s64",
      "userId": "00428871316513598663"
     },
     "user_tz": -60
    },
    "id": "0EmzyHZXKIpm",
    "outputId": "152719a4-0d52-42ce-f634-69c6ef1db01d"
   },
   "outputs": [
    {
     "data": {
      "image/png": "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\n",
      "text/plain": [
       "<IPython.core.display.Image object>"
      ]
     },
     "execution_count": 19,
     "metadata": {
      "tags": []
     },
     "output_type": "execute_result"
    }
   ],
   "source": [
    "tf.keras.utils.plot_model(classifier_model)"
   ]
  },
  {
   "cell_type": "markdown",
   "metadata": {
    "id": "WbUWoZMwc302"
   },
   "source": [
    "## Model training\n",
    "\n",
    "We now have all the pieces to train a model, including the preprocessing module, BERT encoder, data, and classifier."
   ]
  },
  {
   "cell_type": "markdown",
   "metadata": {
    "id": "77psrpfzbxtp"
   },
   "source": [
    "### Optimizer\n",
    "\n",
    "For fine-tuning, let's use the same optimizer that BERT was originally trained with: the \"Adaptive Moments\" (Adam). This optimizer minimizes the prediction loss and does regularization by weight decay (not using moments), which is also known as [AdamW](https://arxiv.org/abs/1711.05101).\n",
    "\n",
    "For the learning rate (`init_lr`), we use the same schedule as BERT pre-training: linear decay of a notional initial learning rate, prefixed with a linear warm-up phase over the first 10% of training steps (`num_warmup_steps`). In line with the BERT paper, the initial learning rate is smaller for fine-tuning (best of 5e-5, 3e-5, 2e-5)."
   ]
  },
  {
   "cell_type": "code",
   "execution_count": 21,
   "metadata": {
    "colab": {
     "base_uri": "https://localhost:8080/"
    },
    "executionInfo": {
     "elapsed": 237141,
     "status": "ok",
     "timestamp": 1610372021568,
     "user": {
      "displayName": "Nguyen Bao",
      "photoUrl": "https://lh3.googleusercontent.com/a-/AOh14Gjw7M03YsQjaWXfKVf3GckShdGXMown08YblXnIzQ=s64",
      "userId": "00428871316513598663"
     },
     "user_tz": -60
    },
    "id": "4nUk4XnkAfxP",
    "outputId": "d166436d-7fad-48d3-b1c9-4ffb67256bdc"
   },
   "outputs": [
    {
     "data": {
      "text/plain": [
       "7803"
      ]
     },
     "execution_count": 21,
     "metadata": {
      "tags": []
     },
     "output_type": "execute_result"
    }
   ],
   "source": [
    "batch_size = 32\n",
    "seed = 42\n",
    "\n",
    "\n",
    "steps_per_epoch = int( np.ceil(X_train2.shape[0] / batch_size) )\n",
    "steps_per_epoch"
   ]
  },
  {
   "cell_type": "code",
   "execution_count": 22,
   "metadata": {
    "executionInfo": {
     "elapsed": 237134,
     "status": "ok",
     "timestamp": 1610372021573,
     "user": {
      "displayName": "Nguyen Bao",
      "photoUrl": "https://lh3.googleusercontent.com/a-/AOh14Gjw7M03YsQjaWXfKVf3GckShdGXMown08YblXnIzQ=s64",
      "userId": "00428871316513598663"
     },
     "user_tz": -60
    },
    "id": "P9eP2y9dbw32"
   },
   "outputs": [],
   "source": [
    "epochs = 3\n",
    "#steps_per_epoch = tf.data.experimental.cardinality(X_train2).numpy()\n",
    "num_train_steps = steps_per_epoch * epochs\n",
    "num_warmup_steps = int(0.1*num_train_steps)\n",
    "\n",
    "init_lr = 3e-5\n",
    "optimizer = optimization.create_optimizer(init_lr=init_lr,\n",
    "                                          num_train_steps=num_train_steps,\n",
    "                                          num_warmup_steps=num_warmup_steps,\n",
    "                                          optimizer_type='adamw')"
   ]
  },
  {
   "cell_type": "markdown",
   "metadata": {
    "id": "SqlarlpC_v0g"
   },
   "source": [
    "### Loading the BERT model and training\n",
    "\n",
    "Using the `classifier_model` you created earlier, you can compile the model with the loss, metric and optimizer."
   ]
  },
  {
   "cell_type": "code",
   "execution_count": 23,
   "metadata": {
    "executionInfo": {
     "elapsed": 237131,
     "status": "ok",
     "timestamp": 1610372021573,
     "user": {
      "displayName": "Nguyen Bao",
      "photoUrl": "https://lh3.googleusercontent.com/a-/AOh14Gjw7M03YsQjaWXfKVf3GckShdGXMown08YblXnIzQ=s64",
      "userId": "00428871316513598663"
     },
     "user_tz": -60
    },
    "id": "-7GPDhR98jsD"
   },
   "outputs": [],
   "source": [
    "classifier_model.compile(optimizer=optimizer,\n",
    "                         loss=tf.keras.losses.sparse_categorical_crossentropy,\n",
    "                         metrics='accuracy')"
   ]
  },
  {
   "cell_type": "code",
   "execution_count": 24,
   "metadata": {
    "colab": {
     "base_uri": "https://localhost:8080/"
    },
    "executionInfo": {
     "elapsed": 237129,
     "status": "ok",
     "timestamp": 1610372021575,
     "user": {
      "displayName": "Nguyen Bao",
      "photoUrl": "https://lh3.googleusercontent.com/a-/AOh14Gjw7M03YsQjaWXfKVf3GckShdGXMown08YblXnIzQ=s64",
      "userId": "00428871316513598663"
     },
     "user_tz": -60
    },
    "id": "-ga-f-q63hj_",
    "outputId": "c56db783-6a23-4928-9fed-620d7c5177db"
   },
   "outputs": [
    {
     "data": {
      "text/plain": [
       "TensorShape([249668])"
      ]
     },
     "execution_count": 24,
     "metadata": {
      "tags": []
     },
     "output_type": "execute_result"
    }
   ],
   "source": [
    "y_train2.shape"
   ]
  },
  {
   "cell_type": "markdown",
   "metadata": {
    "id": "CpBuV5j2cS_b"
   },
   "source": [
    "Note: training time will vary depending on the complexity of the BERT model you have selected."
   ]
  },
  {
   "cell_type": "code",
   "execution_count": 25,
   "metadata": {
    "colab": {
     "base_uri": "https://localhost:8080/"
    },
    "executionInfo": {
     "elapsed": 2165804,
     "status": "ok",
     "timestamp": 1610395451040,
     "user": {
      "displayName": "Nguyen Bao",
      "photoUrl": "https://lh3.googleusercontent.com/a-/AOh14Gjw7M03YsQjaWXfKVf3GckShdGXMown08YblXnIzQ=s64",
      "userId": "00428871316513598663"
     },
     "user_tz": -60
    },
    "id": "HtfDFAnN_Neu",
    "outputId": "f20e8491-7782-4f80-e74f-07cb15827cab"
   },
   "outputs": [
    {
     "name": "stdout",
     "output_type": "stream",
     "text": [
      "Training model with https://tfhub.dev/tensorflow/bert_en_cased_L-12_H-768_A-12/3\n",
      "Epoch 1/3\n",
      "7803/7803 [==============================] - 7784s 995ms/step - loss: 1.6161 - accuracy: 0.5873 - val_loss: 0.4889 - val_accuracy: 0.8666\n",
      "Epoch 2/3\n",
      "7803/7803 [==============================] - 7798s 999ms/step - loss: 0.4224 - accuracy: 0.8841 - val_loss: 0.3967 - val_accuracy: 0.8951\n",
      "Epoch 3/3\n",
      "7803/7803 [==============================] - 7846s 1s/step - loss: 0.2526 - accuracy: 0.9293 - val_loss: 0.4089 - val_accuracy: 0.9017\n"
     ]
    }
   ],
   "source": [
    "print(f'Training model with {tfhub_handle_encoder}')\n",
    "#history = classifier_model.fit(x=train_ds,\n",
    "#                               validation_data=val_ds,\n",
    "#                               epochs=epochs)\n",
    "\n",
    "history = classifier_model.fit(X_train2,y_train2,\n",
    "                               validation_data=(X_val2,y_val2), batch_size=batch_size,\n",
    "                               epochs=epochs)"
   ]
  },
  {
   "cell_type": "code",
   "execution_count": null,
   "metadata": {
    "id": "lQgUF8e51qih"
   },
   "outputs": [],
   "source": [
    "X_test=tf.convert_to_tensor(test_df2['description'])"
   ]
  },
  {
   "cell_type": "code",
   "execution_count": 28,
   "metadata": {
    "colab": {
     "base_uri": "https://localhost:8080/"
    },
    "executionInfo": {
     "elapsed": 537597,
     "status": "ok",
     "timestamp": 1610396005386,
     "user": {
      "displayName": "Nguyen Bao",
      "photoUrl": "https://lh3.googleusercontent.com/a-/AOh14Gjw7M03YsQjaWXfKVf3GckShdGXMown08YblXnIzQ=s64",
      "userId": "00428871316513598663"
     },
     "user_tz": -60
    },
    "id": "caPz0YRFp7Nz",
    "outputId": "eac5aa3e-f59b-4e7b-cfab-0b5c6ac8a5ee"
   },
   "outputs": [
    {
     "data": {
      "text/plain": [
       "array([[1.1803667e-05, 7.9310375e-05, 5.0835010e-06, ..., 2.2418251e-05,\n",
       "        6.5962078e-05, 1.7210131e-06],\n",
       "       [5.4885182e-05, 1.9856996e-04, 2.4637507e-06, ..., 4.2415631e-06,\n",
       "        1.0993463e-05, 6.0461366e-06],\n",
       "       [3.1686518e-03, 1.4403196e-02, 1.4731189e-03, ..., 3.3711344e-03,\n",
       "        1.7338527e-02, 2.7682330e-04],\n",
       "       ...,\n",
       "       [1.3848044e-06, 3.9968554e-06, 8.1203899e-07, ..., 4.5713737e-06,\n",
       "        4.1788926e-06, 1.6953877e-06],\n",
       "       [1.3473542e-05, 2.6261125e-06, 3.2142371e-08, ..., 1.8848857e-06,\n",
       "        9.9935466e-01, 3.6169909e-06],\n",
       "       [3.1497987e-04, 5.0651573e-04, 9.7779382e-05, ..., 1.3795409e-03,\n",
       "        7.4143762e-05, 1.7479616e-06]], dtype=float32)"
      ]
     },
     "execution_count": 28,
     "metadata": {
      "tags": []
     },
     "output_type": "execute_result"
    }
   ],
   "source": [
    "preds=classifier_model.predict(X_test)\n",
    "preds"
   ]
  },
  {
   "cell_type": "code",
   "execution_count": null,
   "metadata": {
    "id": "uvjNC7sY4ptT"
   },
   "outputs": [],
   "source": [
    "preds.shape"
   ]
  },
  {
   "cell_type": "code",
   "execution_count": 30,
   "metadata": {
    "executionInfo": {
     "elapsed": 52,
     "status": "ok",
     "timestamp": 1610396005392,
     "user": {
      "displayName": "Nguyen Bao",
      "photoUrl": "https://lh3.googleusercontent.com/a-/AOh14Gjw7M03YsQjaWXfKVf3GckShdGXMown08YblXnIzQ=s64",
      "userId": "00428871316513598663"
     },
     "user_tz": -60
    },
    "id": "PI0MxsZz23k3"
   },
   "outputs": [],
   "source": [
    "test_df2[\"Category\"] = np.argmax(preds,axis=1)\n",
    "output = test_df2[[\"Id\",\"Category\"]]\n",
    "output.to_csv(\"bert3epoch0110.csv\", index=False)"
   ]
  }
 ],
 "metadata": {
  "accelerator": "GPU",
  "colab": {
   "collapsed_sections": [],
   "name": "classify_text_with_bert.ipynb",
   "provenance": [],
   "toc_visible": true
  },
  "kernelspec": {
   "display_name": "Python 3",
   "language": "python",
   "name": "python3"
  },
  "language_info": {
   "codemirror_mode": {
    "name": "ipython",
    "version": 3
   },
   "file_extension": ".py",
   "mimetype": "text/x-python",
   "name": "python",
   "nbconvert_exporter": "python",
   "pygments_lexer": "ipython3",
   "version": "3.8.2"
  }
 },
 "nbformat": 4,
 "nbformat_minor": 1
}
