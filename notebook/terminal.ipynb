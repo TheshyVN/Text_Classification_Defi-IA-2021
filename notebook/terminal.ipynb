{
  "nbformat": 4,
  "nbformat_minor": 0,
  "metadata": {
    "colab": {
      "name": "terminal.ipynb",
      "provenance": [],
      "collapsed_sections": [],
      "toc_visible": true
    },
    "kernelspec": {
      "name": "python3",
      "display_name": "Python 3"
    },
    "accelerator": "GPU"
  },
  "cells": [
    {
      "cell_type": "markdown",
      "metadata": {
        "id": "OjFRAkeBsXtf"
      },
      "source": [
        "## Environment setup:"
      ]
    },
    {
      "cell_type": "code",
      "metadata": {
        "colab": {
          "base_uri": "https://localhost:8080/"
        },
        "id": "oyMUa-XSPvmE",
        "outputId": "d1d2a37b-fb7b-4a35-cefa-dd7404a35c05"
      },
      "source": [
        "!pip install -q tensorflow-text\n",
        "!pip install -q tf-models-official"
      ],
      "execution_count": 1,
      "outputs": [
        {
          "output_type": "stream",
          "text": [
            "\u001b[K     |████████████████████████████████| 3.4MB 19.6MB/s \n",
            "\u001b[K     |████████████████████████████████| 1.1MB 14.5MB/s \n",
            "\u001b[K     |████████████████████████████████| 358kB 57.1MB/s \n",
            "\u001b[K     |████████████████████████████████| 174kB 50.1MB/s \n",
            "\u001b[K     |████████████████████████████████| 645kB 53.8MB/s \n",
            "\u001b[K     |████████████████████████████████| 37.6MB 84kB/s \n",
            "\u001b[K     |████████████████████████████████| 1.2MB 51.9MB/s \n",
            "\u001b[K     |████████████████████████████████| 102kB 13.4MB/s \n",
            "\u001b[K     |████████████████████████████████| 51kB 9.2MB/s \n",
            "\u001b[?25h  Building wheel for py-cpuinfo (setup.py) ... \u001b[?25l\u001b[?25hdone\n",
            "  Building wheel for seqeval (setup.py) ... \u001b[?25l\u001b[?25hdone\n"
          ],
          "name": "stdout"
        }
      ]
    },
    {
      "cell_type": "code",
      "metadata": {
        "colab": {
          "base_uri": "https://localhost:8080/"
        },
        "id": "nJXKctQ1QCla",
        "outputId": "408f8767-1784-4cc7-ad69-0372bcf2476b"
      },
      "source": [
        "from google.colab import drive\n",
        "drive.mount('/content/drive')"
      ],
      "execution_count": 2,
      "outputs": [
        {
          "output_type": "stream",
          "text": [
            "Mounted at /content/drive\n"
          ],
          "name": "stdout"
        }
      ]
    },
    {
      "cell_type": "code",
      "metadata": {
        "colab": {
          "base_uri": "https://localhost:8080/"
        },
        "id": "C2pYguleSwWP",
        "outputId": "161d7575-e396-4c44-8284-647bebd7c9c4"
      },
      "source": [
        "%cd /content/drive/My Drive/Etudes/defi2021/"
      ],
      "execution_count": 3,
      "outputs": [
        {
          "output_type": "stream",
          "text": [
            "/content/drive/My Drive/Etudes/defi2021\n"
          ],
          "name": "stdout"
        }
      ]
    },
    {
      "cell_type": "markdown",
      "metadata": {
        "id": "cX06M5BfsN-j"
      },
      "source": [
        "## Terminal commands:"
      ]
    },
    {
      "cell_type": "code",
      "metadata": {
        "id": "nQurwgZgSETO"
      },
      "source": [
        "!python BERT_learning.py"
      ],
      "execution_count": null,
      "outputs": []
    },
    {
      "cell_type": "code",
      "metadata": {
        "id": "MYyDICvoYEEv"
      },
      "source": [
        "!python BERT_learning.py --bootstrap True --batch_size 32 --epochs 1 --learning_rate 0.00005"
      ],
      "execution_count": null,
      "outputs": []
    },
    {
      "cell_type": "code",
      "metadata": {
        "colab": {
          "base_uri": "https://localhost:8080/"
        },
        "id": "MS9eof2Gi1tZ",
        "outputId": "444c1ca4-e846-41ea-afa6-c0c6ea1ed2ea"
      },
      "source": [
        "!python BERT_prediction.py # loading model error"
      ],
      "execution_count": 5,
      "outputs": [
        {
          "output_type": "stream",
          "text": [
            "2021-01-27 15:52:20.739989: I tensorflow/stream_executor/platform/default/dso_loader.cc:49] Successfully opened dynamic library libcudart.so.10.1\n",
            "2021-01-27 15:52:22.300761: I tensorflow/compiler/jit/xla_gpu_device.cc:99] Not creating XLA devices, tf_xla_enable_xla_devices not set\n",
            "2021-01-27 15:52:22.301676: I tensorflow/stream_executor/platform/default/dso_loader.cc:49] Successfully opened dynamic library libcuda.so.1\n",
            "2021-01-27 15:52:22.338010: I tensorflow/stream_executor/cuda/cuda_gpu_executor.cc:941] successful NUMA node read from SysFS had negative value (-1), but there must be at least one NUMA node, so returning NUMA node zero\n",
            "2021-01-27 15:52:22.338574: I tensorflow/core/common_runtime/gpu/gpu_device.cc:1720] Found device 0 with properties: \n",
            "pciBusID: 0000:00:04.0 name: Tesla T4 computeCapability: 7.5\n",
            "coreClock: 1.59GHz coreCount: 40 deviceMemorySize: 14.73GiB deviceMemoryBandwidth: 298.08GiB/s\n",
            "2021-01-27 15:52:22.338612: I tensorflow/stream_executor/platform/default/dso_loader.cc:49] Successfully opened dynamic library libcudart.so.10.1\n",
            "2021-01-27 15:52:22.340315: I tensorflow/stream_executor/platform/default/dso_loader.cc:49] Successfully opened dynamic library libcublas.so.10\n",
            "2021-01-27 15:52:22.340377: I tensorflow/stream_executor/platform/default/dso_loader.cc:49] Successfully opened dynamic library libcublasLt.so.10\n",
            "2021-01-27 15:52:22.345699: I tensorflow/stream_executor/platform/default/dso_loader.cc:49] Successfully opened dynamic library libcufft.so.10\n",
            "2021-01-27 15:52:22.346058: I tensorflow/stream_executor/platform/default/dso_loader.cc:49] Successfully opened dynamic library libcurand.so.10\n",
            "2021-01-27 15:52:22.355148: I tensorflow/stream_executor/platform/default/dso_loader.cc:49] Successfully opened dynamic library libcusolver.so.10\n",
            "2021-01-27 15:52:22.356119: I tensorflow/stream_executor/platform/default/dso_loader.cc:49] Successfully opened dynamic library libcusparse.so.10\n",
            "2021-01-27 15:52:22.360220: I tensorflow/stream_executor/platform/default/dso_loader.cc:49] Successfully opened dynamic library libcudnn.so.7\n",
            "2021-01-27 15:52:22.360334: I tensorflow/stream_executor/cuda/cuda_gpu_executor.cc:941] successful NUMA node read from SysFS had negative value (-1), but there must be at least one NUMA node, so returning NUMA node zero\n",
            "2021-01-27 15:52:22.360892: I tensorflow/stream_executor/cuda/cuda_gpu_executor.cc:941] successful NUMA node read from SysFS had negative value (-1), but there must be at least one NUMA node, so returning NUMA node zero\n",
            "2021-01-27 15:52:22.361416: I tensorflow/core/common_runtime/gpu/gpu_device.cc:1862] Adding visible gpu devices: 0\n",
            "2021-01-27 15:52:22.361462: I tensorflow/stream_executor/platform/default/dso_loader.cc:49] Successfully opened dynamic library libcudart.so.10.1\n",
            "2021-01-27 15:52:23.056334: I tensorflow/core/common_runtime/gpu/gpu_device.cc:1261] Device interconnect StreamExecutor with strength 1 edge matrix:\n",
            "2021-01-27 15:52:23.056401: I tensorflow/core/common_runtime/gpu/gpu_device.cc:1267]      0 \n",
            "2021-01-27 15:52:23.056422: I tensorflow/core/common_runtime/gpu/gpu_device.cc:1280] 0:   N \n",
            "2021-01-27 15:52:23.056708: I tensorflow/stream_executor/cuda/cuda_gpu_executor.cc:941] successful NUMA node read from SysFS had negative value (-1), but there must be at least one NUMA node, so returning NUMA node zero\n",
            "2021-01-27 15:52:23.057535: I tensorflow/stream_executor/cuda/cuda_gpu_executor.cc:941] successful NUMA node read from SysFS had negative value (-1), but there must be at least one NUMA node, so returning NUMA node zero\n",
            "2021-01-27 15:52:23.058125: I tensorflow/stream_executor/cuda/cuda_gpu_executor.cc:941] successful NUMA node read from SysFS had negative value (-1), but there must be at least one NUMA node, so returning NUMA node zero\n",
            "2021-01-27 15:52:23.058641: W tensorflow/core/common_runtime/gpu/gpu_bfc_allocator.cc:39] Overriding allow_growth setting because the TF_FORCE_GPU_ALLOW_GROWTH environment variable is set. Original config value was 0.\n",
            "2021-01-27 15:52:23.058699: I tensorflow/core/common_runtime/gpu/gpu_device.cc:1406] Created TensorFlow device (/device:GPU:0 with 13960 MB memory) -> physical GPU (device: 0, name: Tesla T4, pci bus id: 0000:00:04.0, compute capability: 7.5)\n",
            "Mode:  GPU\n",
            "2021-01-27 15:52:23.437968: I tensorflow/compiler/jit/xla_cpu_device.cc:41] Not creating XLA devices, tf_xla_enable_xla_devices not set\n",
            "2021-01-27 15:52:23.438142: I tensorflow/stream_executor/cuda/cuda_gpu_executor.cc:941] successful NUMA node read from SysFS had negative value (-1), but there must be at least one NUMA node, so returning NUMA node zero\n",
            "2021-01-27 15:52:23.438762: I tensorflow/core/common_runtime/gpu/gpu_device.cc:1720] Found device 0 with properties: \n",
            "pciBusID: 0000:00:04.0 name: Tesla T4 computeCapability: 7.5\n",
            "coreClock: 1.59GHz coreCount: 40 deviceMemorySize: 14.73GiB deviceMemoryBandwidth: 298.08GiB/s\n",
            "2021-01-27 15:52:23.438826: I tensorflow/stream_executor/platform/default/dso_loader.cc:49] Successfully opened dynamic library libcudart.so.10.1\n",
            "2021-01-27 15:52:23.438870: I tensorflow/stream_executor/platform/default/dso_loader.cc:49] Successfully opened dynamic library libcublas.so.10\n",
            "2021-01-27 15:52:23.438897: I tensorflow/stream_executor/platform/default/dso_loader.cc:49] Successfully opened dynamic library libcublasLt.so.10\n",
            "2021-01-27 15:52:23.438921: I tensorflow/stream_executor/platform/default/dso_loader.cc:49] Successfully opened dynamic library libcufft.so.10\n",
            "2021-01-27 15:52:23.438944: I tensorflow/stream_executor/platform/default/dso_loader.cc:49] Successfully opened dynamic library libcurand.so.10\n",
            "2021-01-27 15:52:23.438970: I tensorflow/stream_executor/platform/default/dso_loader.cc:49] Successfully opened dynamic library libcusolver.so.10\n",
            "2021-01-27 15:52:23.438992: I tensorflow/stream_executor/platform/default/dso_loader.cc:49] Successfully opened dynamic library libcusparse.so.10\n",
            "2021-01-27 15:52:23.439016: I tensorflow/stream_executor/platform/default/dso_loader.cc:49] Successfully opened dynamic library libcudnn.so.7\n",
            "2021-01-27 15:52:23.439102: I tensorflow/stream_executor/cuda/cuda_gpu_executor.cc:941] successful NUMA node read from SysFS had negative value (-1), but there must be at least one NUMA node, so returning NUMA node zero\n",
            "2021-01-27 15:52:23.439666: I tensorflow/stream_executor/cuda/cuda_gpu_executor.cc:941] successful NUMA node read from SysFS had negative value (-1), but there must be at least one NUMA node, so returning NUMA node zero\n",
            "2021-01-27 15:52:23.440145: I tensorflow/core/common_runtime/gpu/gpu_device.cc:1862] Adding visible gpu devices: 0\n",
            "2021-01-27 15:52:23.440372: I tensorflow/compiler/jit/xla_gpu_device.cc:99] Not creating XLA devices, tf_xla_enable_xla_devices not set\n",
            "2021-01-27 15:52:23.440481: I tensorflow/stream_executor/cuda/cuda_gpu_executor.cc:941] successful NUMA node read from SysFS had negative value (-1), but there must be at least one NUMA node, so returning NUMA node zero\n",
            "2021-01-27 15:52:23.440995: I tensorflow/core/common_runtime/gpu/gpu_device.cc:1720] Found device 0 with properties: \n",
            "pciBusID: 0000:00:04.0 name: Tesla T4 computeCapability: 7.5\n",
            "coreClock: 1.59GHz coreCount: 40 deviceMemorySize: 14.73GiB deviceMemoryBandwidth: 298.08GiB/s\n",
            "2021-01-27 15:52:23.441036: I tensorflow/stream_executor/platform/default/dso_loader.cc:49] Successfully opened dynamic library libcudart.so.10.1\n",
            "2021-01-27 15:52:23.441075: I tensorflow/stream_executor/platform/default/dso_loader.cc:49] Successfully opened dynamic library libcublas.so.10\n",
            "2021-01-27 15:52:23.441100: I tensorflow/stream_executor/platform/default/dso_loader.cc:49] Successfully opened dynamic library libcublasLt.so.10\n",
            "2021-01-27 15:52:23.441123: I tensorflow/stream_executor/platform/default/dso_loader.cc:49] Successfully opened dynamic library libcufft.so.10\n",
            "2021-01-27 15:52:23.441148: I tensorflow/stream_executor/platform/default/dso_loader.cc:49] Successfully opened dynamic library libcurand.so.10\n",
            "2021-01-27 15:52:23.441172: I tensorflow/stream_executor/platform/default/dso_loader.cc:49] Successfully opened dynamic library libcusolver.so.10\n",
            "2021-01-27 15:52:23.441194: I tensorflow/stream_executor/platform/default/dso_loader.cc:49] Successfully opened dynamic library libcusparse.so.10\n",
            "2021-01-27 15:52:23.441216: I tensorflow/stream_executor/platform/default/dso_loader.cc:49] Successfully opened dynamic library libcudnn.so.7\n",
            "2021-01-27 15:52:23.441290: I tensorflow/stream_executor/cuda/cuda_gpu_executor.cc:941] successful NUMA node read from SysFS had negative value (-1), but there must be at least one NUMA node, so returning NUMA node zero\n",
            "2021-01-27 15:52:23.441829: I tensorflow/stream_executor/cuda/cuda_gpu_executor.cc:941] successful NUMA node read from SysFS had negative value (-1), but there must be at least one NUMA node, so returning NUMA node zero\n",
            "2021-01-27 15:52:23.442310: I tensorflow/core/common_runtime/gpu/gpu_device.cc:1862] Adding visible gpu devices: 0\n",
            "2021-01-27 15:52:23.442354: I tensorflow/core/common_runtime/gpu/gpu_device.cc:1261] Device interconnect StreamExecutor with strength 1 edge matrix:\n",
            "2021-01-27 15:52:23.442371: I tensorflow/core/common_runtime/gpu/gpu_device.cc:1267]      0 \n",
            "2021-01-27 15:52:23.442388: I tensorflow/core/common_runtime/gpu/gpu_device.cc:1280] 0:   N \n",
            "2021-01-27 15:52:23.442484: I tensorflow/stream_executor/cuda/cuda_gpu_executor.cc:941] successful NUMA node read from SysFS had negative value (-1), but there must be at least one NUMA node, so returning NUMA node zero\n",
            "2021-01-27 15:52:23.443092: I tensorflow/stream_executor/cuda/cuda_gpu_executor.cc:941] successful NUMA node read from SysFS had negative value (-1), but there must be at least one NUMA node, so returning NUMA node zero\n",
            "2021-01-27 15:52:23.443603: I tensorflow/core/common_runtime/gpu/gpu_device.cc:1406] Created TensorFlow device (/job:localhost/replica:0/task:0/device:GPU:0 with 13960 MB memory) -> physical GPU (device: 0, name: Tesla T4, pci bus id: 0000:00:04.0, compute capability: 7.5)\n",
            "Traceback (most recent call last):\n",
            "  File \"/usr/local/lib/python3.6/dist-packages/tensorflow/python/framework/ops.py\", line 3929, in _get_op_def\n",
            "    return self._op_def_cache[type]\n",
            "KeyError: 'RegexSplitWithOffsets'\n",
            "\n",
            "During handling of the above exception, another exception occurred:\n",
            "\n",
            "Traceback (most recent call last):\n",
            "  File \"/usr/local/lib/python3.6/dist-packages/tensorflow/python/saved_model/load.py\", line 890, in load_internal\n",
            "    ckpt_options, filters)\n",
            "  File \"/usr/local/lib/python3.6/dist-packages/tensorflow/python/saved_model/load.py\", line 132, in __init__\n",
            "    meta_graph.graph_def.library))\n",
            "  File \"/usr/local/lib/python3.6/dist-packages/tensorflow/python/saved_model/function_deserialization.py\", line 340, in load_function_def_library\n",
            "    func_graph = function_def_lib.function_def_to_graph(copy)\n",
            "  File \"/usr/local/lib/python3.6/dist-packages/tensorflow/python/framework/function_def_to_graph.py\", line 59, in function_def_to_graph\n",
            "    fdef, input_shapes)\n",
            "  File \"/usr/local/lib/python3.6/dist-packages/tensorflow/python/framework/function_def_to_graph.py\", line 220, in function_def_to_graph_def\n",
            "    op_def = default_graph._get_op_def(node_def.op)  # pylint: disable=protected-access\n",
            "  File \"/usr/local/lib/python3.6/dist-packages/tensorflow/python/framework/ops.py\", line 3934, in _get_op_def\n",
            "    buf)\n",
            "tensorflow.python.framework.errors_impl.NotFoundError: Op type not registered 'RegexSplitWithOffsets' in binary running on 4127df1646fe. Make sure the Op and Kernel are registered in the binary running in this process. Note that if you are loading a saved graph which used ops from tf.contrib, accessing (e.g.) `tf.contrib.resampler` should be done before importing the graph, as contrib ops are lazily registered when the module is first accessed.\n",
            "\n",
            "During handling of the above exception, another exception occurred:\n",
            "\n",
            "Traceback (most recent call last):\n",
            "  File \"BERT_prediction.py\", line 33, in <module>\n",
            "    classifier_model = km.load_model(\"./output/models/\" + model_str + args_str+\".h5\",custom_objects={'KerasLayer':hub.KerasLayer})\n",
            "  File \"/usr/local/lib/python3.6/dist-packages/tensorflow/python/keras/saving/save.py\", line 207, in load_model\n",
            "    compile)\n",
            "  File \"/usr/local/lib/python3.6/dist-packages/tensorflow/python/keras/saving/hdf5_format.py\", line 184, in load_model_from_hdf5\n",
            "    custom_objects=custom_objects)\n",
            "  File \"/usr/local/lib/python3.6/dist-packages/tensorflow/python/keras/saving/model_config.py\", line 64, in model_from_config\n",
            "    return deserialize(config, custom_objects=custom_objects)\n",
            "  File \"/usr/local/lib/python3.6/dist-packages/tensorflow/python/keras/layers/serialization.py\", line 177, in deserialize\n",
            "    printable_module_name='layer')\n",
            "  File \"/usr/local/lib/python3.6/dist-packages/tensorflow/python/keras/utils/generic_utils.py\", line 358, in deserialize_keras_object\n",
            "    list(custom_objects.items())))\n",
            "  File \"/usr/local/lib/python3.6/dist-packages/tensorflow/python/keras/engine/functional.py\", line 669, in from_config\n",
            "    config, custom_objects)\n",
            "  File \"/usr/local/lib/python3.6/dist-packages/tensorflow/python/keras/engine/functional.py\", line 1275, in reconstruct_from_config\n",
            "    process_layer(layer_data)\n",
            "  File \"/usr/local/lib/python3.6/dist-packages/tensorflow/python/keras/engine/functional.py\", line 1257, in process_layer\n",
            "    layer = deserialize_layer(layer_data, custom_objects=custom_objects)\n",
            "  File \"/usr/local/lib/python3.6/dist-packages/tensorflow/python/keras/layers/serialization.py\", line 177, in deserialize\n",
            "    printable_module_name='layer')\n",
            "  File \"/usr/local/lib/python3.6/dist-packages/tensorflow/python/keras/utils/generic_utils.py\", line 360, in deserialize_keras_object\n",
            "    return cls.from_config(cls_config)\n",
            "  File \"/usr/local/lib/python3.6/dist-packages/tensorflow/python/keras/engine/base_layer.py\", line 720, in from_config\n",
            "    return cls(**config)\n",
            "  File \"/usr/local/lib/python3.6/dist-packages/tensorflow_hub/keras_layer.py\", line 152, in __init__\n",
            "    self._func = load_module(handle, tags, self._load_options)\n",
            "  File \"/usr/local/lib/python3.6/dist-packages/tensorflow_hub/keras_layer.py\", line 427, in load_module\n",
            "    return module_v2.load(handle, tags=tags, options=set_load_options)\n",
            "  File \"/usr/local/lib/python3.6/dist-packages/tensorflow_hub/module_v2.py\", line 106, in load\n",
            "    obj = tf.compat.v1.saved_model.load_v2(module_path, tags=tags)\n",
            "  File \"/usr/local/lib/python3.6/dist-packages/tensorflow/python/saved_model/load.py\", line 859, in load\n",
            "    return load_internal(export_dir, tags, options)[\"root\"]\n",
            "  File \"/usr/local/lib/python3.6/dist-packages/tensorflow/python/saved_model/load.py\", line 893, in load_internal\n",
            "    str(err) + \"\\n If trying to load on a different device from the \"\n",
            "FileNotFoundError: Op type not registered 'RegexSplitWithOffsets' in binary running on 4127df1646fe. Make sure the Op and Kernel are registered in the binary running in this process. Note that if you are loading a saved graph which used ops from tf.contrib, accessing (e.g.) `tf.contrib.resampler` should be done before importing the graph, as contrib ops are lazily registered when the module is first accessed.\n",
            " If trying to load on a different device from the computational device, consider using setting the `experimental_io_device` option on tf.saved_model.LoadOptions to the io_device such as '/job:localhost'.\n"
          ],
          "name": "stdout"
        }
      ]
    }
  ]
}